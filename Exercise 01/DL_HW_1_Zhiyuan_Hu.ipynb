{
 "cells": [
  {
   "cell_type": "code",
   "execution_count": 4,
   "metadata": {},
   "outputs": [],
   "source": [
    "import numpy as np\n",
    "# iniallize \n",
    "def sigmoid(inX):  \n",
    "    return 1.0/(1+np.exp(-inX))  \n",
    "W1 = np.array([ [-0.20, 0.48, -0.52],\n",
    "                [-0.56, 1.97,  1.39],\n",
    "                [ 0.10, 0.28,  0.77],\n",
    "                [ 1.25, 1.01, -1.30] ] )\n",
    "b1 = np.array([ [0.27],\n",
    "                [0.23],\n",
    "                [1.35],\n",
    "                [0.89] ])             \n",
    "W2 = np.array([ [-1.00, -0.19,  0.83, -0.22],\n",
    "                [-0.27,  0.24,  1.62, -0.51],\n",
    "                [-0.29,  0.06,  0.15,  0.26],\n",
    "                [ 0.00,  0.67, -0.36, -0.42]  ])             \n",
    "b2 = np.array([ [-1.19],\n",
    "                [-0.93],\n",
    "                [-0.43],\n",
    "                [ 0.28]  ])             \n",
    "W3 = np.array([ [-0.13,  0.01, -0.10,  0.03],\n",
    "                [-0.24, -0.02, -0.15, -0.10]  ])             \n",
    "b3 = np.array([ [-0.13],\n",
    "                [ 0.03]  ])\n",
    "X = np.array([  [0.13, 0.68, 0.80, 0.57, 0.97],\n",
    "                [0.63, 0.89, 0.50, 0.35, 0.71],\n",
    "                [0.50, 0.23, 0.24, 0.79, 0.50]  ])"
   ]
  },
  {
   "cell_type": "code",
   "execution_count": 5,
   "metadata": {},
   "outputs": [],
   "source": [
    "H1 = sigmoid( np.dot(W1,X) + b1 )\n",
    "H2 = sigmoid( np.dot(W2,H1) + b2 )\n",
    "Out = np.dot(W3,H2) + b3"
   ]
  },
  {
   "cell_type": "code",
   "execution_count": 6,
   "metadata": {
    "scrolled": true
   },
   "outputs": [
    {
     "name": "stdout",
     "output_type": "stream",
     "text": [
      "   h1_1   h1_2   h1_3   h1_4    h2_1  h2_2   h2_3   h2_4   o1     o2\n",
      "[[ 0.571  0.89   0.873  0.739  0.203  0.542  0.445  0.563 -0.179 -0.153]\n",
      " [ 0.609  0.872  0.863  0.912  0.19   0.512  0.453  0.543 -0.179 -0.148]\n",
      " [ 0.556  0.75   0.853  0.889  0.202  0.507  0.453  0.526 -0.181 -0.149]\n",
      " [ 0.478  0.845  0.892  0.717  0.223  0.556  0.451  0.556 -0.182 -0.158]\n",
      " [ 0.539  0.856  0.884  0.897  0.205  0.526  0.458  0.539 -0.181 -0.152]]\n"
     ]
    }
   ],
   "source": [
    "Tabelle = np.hstack(  (H1.T, H2.T, Out.T) )\n",
    "print(\"   h1_1   h1_2   h1_3   h1_4    h2_1  h2_2   h2_3   h2_4   o1     o2\")\n",
    "np.set_printoptions(precision=3, suppress=True)\n",
    "print(Tabelle)"
   ]
  },
  {
   "cell_type": "code",
   "execution_count": null,
   "metadata": {},
   "outputs": [],
   "source": []
  }
 ],
 "metadata": {
  "kernelspec": {
   "display_name": "Python 3",
   "language": "python",
   "name": "python3"
  },
  "language_info": {
   "codemirror_mode": {
    "name": "ipython",
    "version": 3
   },
   "file_extension": ".py",
   "mimetype": "text/x-python",
   "name": "python",
   "nbconvert_exporter": "python",
   "pygments_lexer": "ipython3",
   "version": "3.6.4"
  }
 },
 "nbformat": 4,
 "nbformat_minor": 2
}
