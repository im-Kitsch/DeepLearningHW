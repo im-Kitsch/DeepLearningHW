{
 "cells": [
  {
   "cell_type": "code",
   "execution_count": 13,
   "metadata": {},
   "outputs": [],
   "source": [
    "import numpy as np\n",
    "\n",
    "np.random.seed(12345)\n",
    "\n",
    "\n",
    "def initialize(input_dim, hidden_dim, output_dim, batch_size):\n",
    "    W1 = np.random.randn(hidden_dim, input_dim) * 0.01\n",
    "    b1 = np.zeros((hidden_dim,))\n",
    "    W2 = np.random.randn(output_dim, hidden_dim) * 0.01\n",
    "    b2 = np.zeros((output_dim,))\n",
    "\n",
    "    parameters = [W1, b1, W2, b2]\n",
    "    x = np.random.rand(input_dim, batch_size)\n",
    "    y = np.random.randn(output_dim, batch_size)\n",
    "\n",
    "    return parameters, x, y\n",
    "\n",
    "\n",
    "def sigmoid(x):\n",
    "    return 1 / (1 + np.exp(-x))\n",
    "\n",
    "\n",
    "def deriv_sigmoid(x):\n",
    "    return x * (1 - x)"
   ]
  },
  {
   "cell_type": "code",
   "execution_count": 14,
   "metadata": {},
   "outputs": [],
   "source": [
    "def forward(parameters, X):\n",
    "    W1, b1, W2, b2 = parameters\n",
    "\n",
    "    batch_size = X.shape[1]\n",
    "    hidden_dim = W1.shape[0]\n",
    "    output_dim = W2.shape[0]\n",
    "\n",
    "    hid = np.zeros((hidden_dim, batch_size))\n",
    "    outputs = np.zeros((output_dim, batch_size))\n",
    "\n",
    "    hid = sigmoid(np.dot(W1, X) + b1.reshape(-1,1))\n",
    "    outputs = np.dot(W2, hid) + b2.reshape(-1,1)\n",
    "\n",
    "    activations = [X, hid, outputs]\n",
    "\n",
    "    return activations"
   ]
  },
  {
   "cell_type": "code",
   "execution_count": 15,
   "metadata": {},
   "outputs": [],
   "source": [
    "def squared_loss(predictions, targets):\n",
    "    \"\"\" Computes mean squared error\n",
    "\n",
    "    predictions: (output_dim, batch_size)\n",
    "    targets: (output_dim, batch_size)\n",
    "\n",
    "    \"\"\"\n",
    "\n",
    "    loss = np.zeros(targets.shape[1])\n",
    "\n",
    "    loss = (1./targets.shape[1]) * np.sum(np.sum(.5 * (predictions - targets)**2, axis=0))\n",
    "\n",
    "    return np.mean(loss)"
   ]
  },
  {
   "cell_type": "code",
   "execution_count": 16,
   "metadata": {},
   "outputs": [],
   "source": [
    "def deriv_squared_loss(predictions, targets):\n",
    "    \n",
    "    batch_size = targets.shape[1]\n",
    "    dloss = np.zeros(targets.shape)\n",
    "\n",
    "    dloss = (predictions - targets) / batch_size\n",
    "\n",
    "    return dloss"
   ]
  },
  {
   "cell_type": "code",
   "execution_count": 17,
   "metadata": {},
   "outputs": [],
   "source": [
    "def backward(activations, targets, parameters):\n",
    "\n",
    "    X, hid, predictions = activations\n",
    "\n",
    "    input_dim = X.shape[0]\n",
    "    hidden_dim = hid.shape[0]\n",
    "    output_dim = predictions.shape[0]\n",
    "\n",
    "    W1, b1, W2, b2 = parameters\n",
    "\n",
    "    dW1 = np.zeros((hidden_dim, input_dim))\n",
    "    db1 = np.zeros((hidden_dim,))\n",
    "    dW2 = np.zeros((output_dim, hidden_dim))\n",
    "    db2 = np.zeros((output_dim,))\n",
    "\n",
    "    out_error = squared_loss(predictions, targets)\n",
    "    out_delta = deriv_squared_loss(predictions, targets)\n",
    "    \n",
    "    dhid_error = np.dot(W2.T, out_delta)\n",
    "    dhid_delta = dhid_error * deriv_sigmoid(hid)\n",
    "    \n",
    "    dW1 = np.dot(dhid_delta, X.T)\n",
    "    db1 = np.sum(dhid_delta, axis=1)\n",
    "    \n",
    "    dW2 = np.dot(out_delta, hid.T)\n",
    "    db2 = np.sum(out_delta, axis=1)\n",
    "\n",
    "    grads = [dW1, db1, dW2, db2]\n",
    "\n",
    "    return grads\n"
   ]
  },
  {
   "cell_type": "code",
   "execution_count": 27,
   "metadata": {},
   "outputs": [
    {
     "ename": "SyntaxError",
     "evalue": "unexpected EOF while parsing (<ipython-input-27-fa74bfe6e084>, line 11)",
     "output_type": "error",
     "traceback": [
      "\u001b[0;36m  File \u001b[0;32m\"<ipython-input-27-fa74bfe6e084>\"\u001b[0;36m, line \u001b[0;32m11\u001b[0m\n\u001b[0;31m    \u001b[0m\n\u001b[0m    ^\u001b[0m\n\u001b[0;31mSyntaxError\u001b[0m\u001b[0;31m:\u001b[0m unexpected EOF while parsing\n"
     ]
    }
   ],
   "source": [
    "def taining(X_train, y_train, iteration = 1e5, learning_rate = 0.01):\n",
    "    input_dim = X_train.shape[1]\n",
    "    hidden_dim = 30\n",
    "    output_dim = 10\n",
    "    batch_size = 5\n",
    "    \n",
    "    parameters, X, Y = initialize(input_dim, hidden_dim, output_dim, batch_size)\n",
    "    \n",
    "    for i in xrange(0, iteration):\n",
    "        "
   ]
  },
  {
   "cell_type": "code",
   "execution_count": 18,
   "metadata": {},
   "outputs": [],
   "source": [
    "from sklearn.metrics import classification_report, confusion_matrix\n",
    "\n",
    "from sklearn.model_selection import train_test_split\n",
    "\n",
    "from sklearn.datasets import fetch_mldata\n",
    "\n",
    "from sklearn.preprocessing import StandardScaler\n",
    "\n",
    "from sklearn.utils import check_random_state\n",
    "\n",
    " \n",
    "\n",
    "mnist = fetch_mldata('MNIST original')\n",
    "\n",
    "X = mnist.data.astype('float64')\n",
    "\n",
    "y = mnist.target\n",
    "\n",
    "random_state = check_random_state(0)\n",
    "\n",
    " \n",
    "\n",
    "X_train, X_test, y_train, y_test = train_test_split(X, y, train_size=1000, test_size=300, random_state= random_state)\n",
    "\n",
    " \n",
    "\n",
    "scaler = StandardScaler()\n",
    "\n",
    "X_train = scaler.fit_transform(X_train)\n",
    "\n",
    "X_test = scaler.transform(X_test)"
   ]
  },
  {
   "cell_type": "code",
   "execution_count": 19,
   "metadata": {},
   "outputs": [
    {
     "ename": "ValueError",
     "evalue": "shapes (30,784) and (1000,784) not aligned: 784 (dim 1) != 1000 (dim 0)",
     "output_type": "error",
     "traceback": [
      "\u001b[0;31m---------------------------------------------------------------------------\u001b[0m",
      "\u001b[0;31mValueError\u001b[0m                                Traceback (most recent call last)",
      "\u001b[0;32m<ipython-input-19-ea8786fd7da2>\u001b[0m in \u001b[0;36m<module>\u001b[0;34m()\u001b[0m\n\u001b[1;32m      9\u001b[0m \u001b[0;34m\u001b[0m\u001b[0m\n\u001b[1;32m     10\u001b[0m     \u001b[0;31m##activations = [X, hid, outputs]\u001b[0m\u001b[0;34m\u001b[0m\u001b[0;34m\u001b[0m\u001b[0m\n\u001b[0;32m---> 11\u001b[0;31m     \u001b[0mactivations\u001b[0m \u001b[0;34m=\u001b[0m \u001b[0mforward\u001b[0m\u001b[0;34m(\u001b[0m\u001b[0mparameters\u001b[0m\u001b[0;34m,\u001b[0m \u001b[0mX_train\u001b[0m\u001b[0;34m)\u001b[0m\u001b[0;34m\u001b[0m\u001b[0m\n\u001b[0m",
      "\u001b[0;32m<ipython-input-14-50559236b4a1>\u001b[0m in \u001b[0;36mforward\u001b[0;34m(parameters, X)\u001b[0m\n\u001b[1;32m      9\u001b[0m     \u001b[0moutputs\u001b[0m \u001b[0;34m=\u001b[0m \u001b[0mnp\u001b[0m\u001b[0;34m.\u001b[0m\u001b[0mzeros\u001b[0m\u001b[0;34m(\u001b[0m\u001b[0;34m(\u001b[0m\u001b[0moutput_dim\u001b[0m\u001b[0;34m,\u001b[0m \u001b[0mbatch_size\u001b[0m\u001b[0;34m)\u001b[0m\u001b[0;34m)\u001b[0m\u001b[0;34m\u001b[0m\u001b[0m\n\u001b[1;32m     10\u001b[0m \u001b[0;34m\u001b[0m\u001b[0m\n\u001b[0;32m---> 11\u001b[0;31m     \u001b[0mhid\u001b[0m \u001b[0;34m=\u001b[0m \u001b[0msigmoid\u001b[0m\u001b[0;34m(\u001b[0m\u001b[0mnp\u001b[0m\u001b[0;34m.\u001b[0m\u001b[0mdot\u001b[0m\u001b[0;34m(\u001b[0m\u001b[0mW1\u001b[0m\u001b[0;34m,\u001b[0m \u001b[0mX\u001b[0m\u001b[0;34m)\u001b[0m \u001b[0;34m+\u001b[0m \u001b[0mb1\u001b[0m\u001b[0;34m.\u001b[0m\u001b[0mreshape\u001b[0m\u001b[0;34m(\u001b[0m\u001b[0;34m-\u001b[0m\u001b[0;36m1\u001b[0m\u001b[0;34m,\u001b[0m\u001b[0;36m1\u001b[0m\u001b[0;34m)\u001b[0m\u001b[0;34m)\u001b[0m\u001b[0;34m\u001b[0m\u001b[0m\n\u001b[0m\u001b[1;32m     12\u001b[0m     \u001b[0moutputs\u001b[0m \u001b[0;34m=\u001b[0m \u001b[0mnp\u001b[0m\u001b[0;34m.\u001b[0m\u001b[0mdot\u001b[0m\u001b[0;34m(\u001b[0m\u001b[0mW2\u001b[0m\u001b[0;34m,\u001b[0m \u001b[0mhid\u001b[0m\u001b[0;34m)\u001b[0m \u001b[0;34m+\u001b[0m \u001b[0mb2\u001b[0m\u001b[0;34m.\u001b[0m\u001b[0mreshape\u001b[0m\u001b[0;34m(\u001b[0m\u001b[0;34m-\u001b[0m\u001b[0;36m1\u001b[0m\u001b[0;34m,\u001b[0m\u001b[0;36m1\u001b[0m\u001b[0;34m)\u001b[0m\u001b[0;34m\u001b[0m\u001b[0m\n\u001b[1;32m     13\u001b[0m \u001b[0;34m\u001b[0m\u001b[0m\n",
      "\u001b[0;31mValueError\u001b[0m: shapes (30,784) and (1000,784) not aligned: 784 (dim 1) != 1000 (dim 0)"
     ]
    }
   ],
   "source": [
    "if __name__ == '__main__':\n",
    "    input_dim = 784\n",
    "    hidden_dim = 30\n",
    "    output_dim = 10\n",
    "    batch_size = 5\n",
    "    iteration = 1e5\n",
    "    \n",
    "    parameters, X, Y = initialize(input_dim, hidden_dim, output_dim, batch_size)\n",
    "    \n",
    "    ##activations = [X, hid, outputs]\n",
    "    activations = forward(parameters, X_train)"
   ]
  },
  {
   "cell_type": "code",
   "execution_count": 23,
   "metadata": {},
   "outputs": [
    {
     "data": {
      "text/plain": [
       "(1000,)"
      ]
     },
     "execution_count": 23,
     "metadata": {},
     "output_type": "execute_result"
    }
   ],
   "source": [
    "y_train.shape"
   ]
  },
  {
   "cell_type": "code",
   "execution_count": 12,
   "metadata": {},
   "outputs": [
    {
     "data": {
      "text/plain": [
       "784"
      ]
     },
     "execution_count": 12,
     "metadata": {},
     "output_type": "execute_result"
    }
   ],
   "source": [
    "W1, b1, W2, b2 = parameters\n",
    "\n",
    "batch_size = X_train.shape[1]\n",
    "hidden_dim = W1.shape[0]\n",
    "output_dim = W2.shape[0]\n",
    "\n",
    "hid = np.zeros((hidden_dim, batch_size))\n",
    "outputs = np.zeros((output_dim, batch_size))\n",
    "    \n",
    "hid = sigmoid(np.dot(W1, X) + b1.reshape(-1,1))\n",
    "outputs = np.dot(W2, hid) + b2.reshape(-1,1)\n",
    "activations = [X, hid, outputs]\n",
    "\n",
    "X_train.shape[1]"
   ]
  },
  {
   "cell_type": "code",
   "execution_count": null,
   "metadata": {},
   "outputs": [],
   "source": []
  },
  {
   "cell_type": "code",
   "execution_count": 1,
   "metadata": {},
   "outputs": [
    {
     "name": "stdout",
     "output_type": "stream",
     "text": [
      "Classification report:\n",
      "             precision    recall  f1-score   support\n",
      "\n",
      "        0.0       1.00      1.00      1.00        32\n",
      "        1.0       1.00      1.00      1.00        34\n",
      "        2.0       1.00      1.00      1.00        32\n",
      "        3.0       1.00      1.00      1.00        31\n",
      "        4.0       1.00      1.00      1.00        26\n",
      "        5.0       1.00      1.00      1.00        24\n",
      "        6.0       1.00      1.00      1.00        27\n",
      "        7.0       1.00      1.00      1.00        31\n",
      "        8.0       1.00      1.00      1.00        31\n",
      "        9.0       1.00      1.00      1.00        32\n",
      "\n",
      "avg / total       1.00      1.00      1.00       300\n",
      "\n",
      "Confusion matrix:\n",
      "[[32  0  0  0  0  0  0  0  0  0]\n",
      " [ 0 34  0  0  0  0  0  0  0  0]\n",
      " [ 0  0 32  0  0  0  0  0  0  0]\n",
      " [ 0  0  0 31  0  0  0  0  0  0]\n",
      " [ 0  0  0  0 26  0  0  0  0  0]\n",
      " [ 0  0  0  0  0 24  0  0  0  0]\n",
      " [ 0  0  0  0  0  0 27  0  0  0]\n",
      " [ 0  0  0  0  0  0  0 31  0  0]\n",
      " [ 0  0  0  0  0  0  0  0 31  0]\n",
      " [ 0  0  0  0  0  0  0  0  0 32]]\n"
     ]
    }
   ],
   "source": [
    "from sklearn.metrics import classification_report, confusion_matrix\n",
    "\n",
    "from sklearn.model_selection import train_test_split\n",
    "\n",
    "from sklearn.datasets import fetch_mldata\n",
    "\n",
    "from sklearn.preprocessing import StandardScaler\n",
    "\n",
    "from sklearn.utils import check_random_state\n",
    "\n",
    " \n",
    "\n",
    "mnist = fetch_mldata('MNIST original')\n",
    "\n",
    "X = mnist.data.astype('float64')\n",
    "\n",
    "y = mnist.target\n",
    "\n",
    "random_state = check_random_state(0)\n",
    "\n",
    " \n",
    "\n",
    "X_train, X_test, y_train, y_test = train_test_split(X, y, train_size=1000, test_size=300, random_state= random_state)\n",
    "\n",
    " \n",
    "\n",
    "scaler = StandardScaler()\n",
    "\n",
    "X_train = scaler.fit_transform(X_train)\n",
    "\n",
    "X_test = scaler.transform(X_test)\n",
    "\n",
    " \n",
    "\n",
    "expected = y_test\n",
    "\n",
    "predicted = y_test #Network output\n",
    "\n",
    " \n",
    "\n",
    "print(\"Classification report:\")\n",
    "\n",
    "print(classification_report(expected, predicted))\n",
    "\n",
    "print(\"Confusion matrix:\")\n",
    "\n",
    "print(confusion_matrix(expected, predicted))"
   ]
  },
  {
   "cell_type": "code",
   "execution_count": 31,
   "metadata": {},
   "outputs": [
    {
     "data": {
      "text/plain": [
       "(300,)"
      ]
     },
     "execution_count": 31,
     "metadata": {},
     "output_type": "execute_result"
    }
   ],
   "source": [
    "y_test.shape"
   ]
  },
  {
   "cell_type": "code",
   "execution_count": null,
   "metadata": {},
   "outputs": [],
   "source": []
  }
 ],
 "metadata": {
  "kernelspec": {
   "display_name": "Python 3",
   "language": "python",
   "name": "python3"
  },
  "language_info": {
   "codemirror_mode": {
    "name": "ipython",
    "version": 3
   },
   "file_extension": ".py",
   "mimetype": "text/x-python",
   "name": "python",
   "nbconvert_exporter": "python",
   "pygments_lexer": "ipython3",
   "version": "3.6.4"
  }
 },
 "nbformat": 4,
 "nbformat_minor": 2
}
