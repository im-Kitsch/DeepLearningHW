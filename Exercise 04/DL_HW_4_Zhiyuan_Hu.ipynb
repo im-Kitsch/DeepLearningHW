{
 "cells": [
  {
   "cell_type": "markdown",
   "metadata": {},
   "source": [
    "Read Data"
   ]
  },
  {
   "cell_type": "code",
   "execution_count": 1,
   "metadata": {},
   "outputs": [],
   "source": [
    "from sklearn.metrics import classification_report, confusion_matrix\n",
    "from sklearn.model_selection import train_test_split\n",
    "from sklearn.datasets import fetch_mldata\n",
    "from sklearn.preprocessing import StandardScaler\n",
    "from sklearn.utils import check_random_state \n",
    "import numpy as np\n",
    "\n",
    "mnist = fetch_mldata('MNIST original')\n",
    "X = mnist.data.astype('float64')\n",
    "y = mnist.target\n",
    "random_state = check_random_state(0) \n",
    "\n",
    "X_train, X_test, y_train, y_test = train_test_split(X, y, train_size=1000, test_size=300, random_state= random_state)\n",
    "\n",
    "X_train = X_train.reshape(X_train.shape[0], 1, 28, 28)"
   ]
  },
  {
   "cell_type": "code",
   "execution_count": 2,
   "metadata": {},
   "outputs": [],
   "source": [
    "def Pooling(tensor):\n",
    "    new = np.zeros((tensor.shape[0], int(tensor.shape[1]/2), int(tensor.shape[2]/2) ))\n",
    "    for i in range(new.shape[0]):\n",
    "        for j in range(new.shape[1]):\n",
    "            for k in range(new.shape[2]):\n",
    "                new[i,j,k] = np.mean(tensor[i, 2*j:(2*j+2), 2*k:(2*k+2)])\n",
    "    return new\n",
    "def Conv(tensor, filter, bias):\n",
    "    slide = tensor.shape[1] +1-5\n",
    "    new = np.zeros((filter.shape[3],slide,slide))\n",
    "    for kk in range(filter.shape[3]):\n",
    "        for i in range(slide):\n",
    "            for j in range(slide):\n",
    "                sub = 0\n",
    "                for m in range(filter.shape[0]):\n",
    "                    tempa = tensor[m, i:i+5, i:i+5].reshape(5,5)\n",
    "                    tempb = filter[m, :, :, kk].reshape(5,5)                    \n",
    "                    temp = tempa * tempb\n",
    "                    sub += np.sum(temp)\n",
    "                new[kk,i,j] = sub       \n",
    "    new += bias\n",
    "    return new"
   ]
  },
  {
   "cell_type": "code",
   "execution_count": 4,
   "metadata": {},
   "outputs": [],
   "source": [
    "#LeNet\n",
    "#Inialize\n",
    "Filter0 =  np.random.random( (1, 5, 5, 6))\n",
    "b0 = np.random.random((6,28,28))\n",
    "Filter2 =  np.random.random( (6, 5, 5, 16) )\n",
    "b2 = np.random.random((16,10,10))\n",
    "Filter4 =  np.random.random( (16, 5, 5, 120) )\n",
    "b4 = np.random.random((120,1,1))\n",
    "W5 = np.random.random( (84,120 ) )\n",
    "b5 = np.random.random( (84,1)  )\n",
    "\n",
    "W6 = np.random.random((10,84))\n",
    "b6 = np.random.random( (10,1) )\n",
    "\n",
    "Input = np.pad(X_train, ((0,0),(0,0), (2,2),(2,2)) , 'constant' )\n",
    "\n",
    "# for i, image in enumerate(Input): \n",
    "image = Input[0]\n",
    "C1 = Conv(image, Filter0, b0)\n",
    "S2 = Pooling(C1)\n",
    "C3 = Conv(S2, Filter2, b2)\n",
    "S4 = Pooling(C3)\n",
    "C5 = Conv(S4, Filter4, b4)\n",
    "C5 = C5.reshape(120,1)\n",
    "F6 = np.maximum(np.dot(W5, C5)+b5, 0)\n",
    "F7 = np.dot(W6,F6) + b6"
   ]
  }
 ],
 "metadata": {
  "kernelspec": {
   "display_name": "Python tf",
   "language": "python",
   "name": "tensorflow"
  },
  "language_info": {
   "codemirror_mode": {
    "name": "ipython",
    "version": 3
   },
   "file_extension": ".py",
   "mimetype": "text/x-python",
   "name": "python",
   "nbconvert_exporter": "python",
   "pygments_lexer": "ipython3",
   "version": "3.6.5"
  }
 },
 "nbformat": 4,
 "nbformat_minor": 2
}
